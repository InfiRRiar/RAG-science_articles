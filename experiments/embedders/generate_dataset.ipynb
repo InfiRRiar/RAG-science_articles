{
 "cells": [
  {
   "cell_type": "code",
   "execution_count": 1,
   "id": "422ce85c",
   "metadata": {},
   "outputs": [],
   "source": [
    "import pandas as pd"
   ]
  },
  {
   "cell_type": "code",
   "execution_count": 2,
   "id": "9fd8b152",
   "metadata": {},
   "outputs": [
    {
     "name": "stdout",
     "output_type": "stream",
     "text": [
      "we consider robust estimation when outputs are adversarially contaminated. nguyen and tran (2012) proposed an extended lasso for robust parameter estimation and then they showed the convergence rate of the estimation error. recently, dalalyan and thompson (2019) gave some useful inequalities and then they showed a faster convergence rate than nguyen and tran (2012). they focused on the fact that the minimization problem of the extended lasso can become that of the penalized huber loss function with $l_1$ penalty. the distinguishing point is that the huber loss function includes an extra tuning parameter, which is different from the conventional method. we give the proof, which is different from dalalyan and thompson (2019) and then we give the same convergence rate as dalalyan and thompson (2019). the significance of our proof is to use some specific properties of the huber function. such techniques have not been used in the past proofs.\n",
      "we consider robust low rank matrix estimation as a trace regression when outputs are contaminated by adversaries. the adversaries are allowed to add arbitrary values to arbitrary outputs. such values can depend on any samples. we deal with matrix compressed sensing, including lasso as a partial problem, and matrix completion, and then we obtain sharp estimation error bounds. to obtain the error bounds for different models such as matrix compressed sensing and matrix completion, we propose a simple unified approach based on a combination of the huber loss function and the nuclear norm penalization, which is a different approach from the conventional ones. some error bounds obtained in the present paper are sharper than the past ones.\n",
      "science is essential to innovation and economic prosperity. although studies have shown that national scientific development is affected by geographic, historic, and economic factors, it remains unclear whether there are universal structures and trajectories of national scientific development that can inform forecasting and policymaking. here, by examining countries' scientific 'exports'-publications that are indexed in international databases-we reveal a three-cluster structure in the relatedness network of disciplines that underpin national scientific development and the organization of global science. tracing the evolution of national research portfolios reveals that while nations are proceeding to more diverse research profiles individually, scientific production is increasingly specialized in global science over the past decades. by uncovering the underlying structure of scientific development and connecting it with economic development, our results may offer a new perspective on the evolution of global science.\n",
      "a central question in multi-agent strategic games deals with learning the underlying utilities driving the agents' behaviour. motivated by the increasing availability of large data-sets, we develop an unifying data-driven technique to estimate agents' utility functions from their observed behaviour, irrespective of whether the observations correspond to equilibrium configurations or to temporal sequences of action profiles. under standard assumptions on the parametrization of the utilities, the proposed inference method is computationally efficient and finds all the parameters that rationalize the observed behaviour best. we numerically validate our theoretical findings on the market share estimation problem under advertising competition, using historical data from the coca-cola company and pepsi inc. duopoly.\n",
      "we discuss a discretisation of the de rham-hodge theory in the two-dimensional case based on a discrete exterior calculus framework. we present discrete analogues of the hodge-dirac and laplace operators in which key geometric aspects of the continuum counterpart are captured. we provide and prove a discrete version of the hodge decomposition theorem. special attention has been paid to discrete models on a combinatorial torus. in this particular case, we also define and calculate the cohomology groups.\n"
     ]
    }
   ],
   "source": [
    "articles = pd.read_csv(\"../../ml/data/cleaned.csv\")\n",
    "for i in range(5):\n",
    "    print(articles.iloc[i].abstract)"
   ]
  },
  {
   "cell_type": "code",
   "execution_count": 3,
   "id": "cfabf6fa",
   "metadata": {},
   "outputs": [],
   "source": [
    "# Generated manually via deepseek\n",
    "\n",
    "questions_to_positive = {\n",
    "    \"question\": [\n",
    "        \"What method is used for robust estimation with contaminated outputs and what is its convergence rate?\",\n",
    "        \"What properties of the Huber function are used in the convergence proof for robust lasso?\",\n",
    "        \"Why does extended lasso use the Huber function instead of the conventional method, and how does it affect convergence speed?\",\n",
    "        \"Are there new convergence proofs for robust lasso that achieve the same rate as Dalalyan and Thompson?\",\n",
    "        \"What are the key clusters or patterns in global scientific research based on publication data?\",\n",
    "        \"Has scientific research become more specialized or diversified across countries over time?\",\n",
    "        \"What factors influence the structure of national scientific development besides economics?\",\n",
    "        \"Is there a universal model for how countries develop their scientific research capabilities?\",\n",
    "        \"Can you figure out what players really want just by watching how they act in competitive situations?\",\n",
    "        \"What's the smartest way to work backwards from actions to motivations in business rivalry data?\",\n",
    "        \"Is there a math trick to decode why companies make certain moves based on their competition history?\",\n",
    "        \"How do researchers reverse-engineer the hidden reasons behind corporate decisions using market data?\",\n",
    "        \"When two big brands compete, can their past moves reveal their secret strategies?\"],\n",
    "    \"relatable_abstract_id\": [\n",
    "        0, 0, 0, 0,\n",
    "        2, 2, 2, 2,\n",
    "        3, 3, 3, 3, 3\n",
    "    ]\n",
    "}"
   ]
  },
  {
   "cell_type": "code",
   "execution_count": 5,
   "id": "2a6e8666",
   "metadata": {},
   "outputs": [],
   "source": [
    "pd.DataFrame(questions_to_positive).to_csv(\"test_data.csv\", index=False)"
   ]
  }
 ],
 "metadata": {
  "kernelspec": {
   "display_name": "rag-articles-GkDBBu19-py3.10",
   "language": "python",
   "name": "python3"
  },
  "language_info": {
   "codemirror_mode": {
    "name": "ipython",
    "version": 3
   },
   "file_extension": ".py",
   "mimetype": "text/x-python",
   "name": "python",
   "nbconvert_exporter": "python",
   "pygments_lexer": "ipython3",
   "version": "3.10.18"
  }
 },
 "nbformat": 4,
 "nbformat_minor": 5
}
